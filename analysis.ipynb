{
 "cells": [
  {
   "attachments": {},
   "cell_type": "markdown",
   "metadata": {},
   "source": [
    "# Counter Strike Coaching Strategies - Analysis"
   ]
  },
  {
   "attachments": {},
   "cell_type": "markdown",
   "metadata": {},
   "source": [
    "### Import class and libraries"
   ]
  },
  {
   "cell_type": "code",
   "execution_count": 1,
   "metadata": {},
   "outputs": [],
   "source": [
    "import pandas as pd\n",
    "import matplotlib.pyplot as plt\n",
    "import matplotlib.path as mpath\n",
    "import matplotlib.patches as mpatches\n",
    "import numpy as np\n",
    "from process_game_state import ProcessGameState\n"
   ]
  },
  {
   "attachments": {},
   "cell_type": "markdown",
   "metadata": {},
   "source": [
    "### Create game state instance"
   ]
  },
  {
   "cell_type": "code",
   "execution_count": 2,
   "metadata": {},
   "outputs": [
    {
     "data": {
      "text/html": [
       "<div>\n",
       "<style scoped>\n",
       "    .dataframe tbody tr th:only-of-type {\n",
       "        vertical-align: middle;\n",
       "    }\n",
       "\n",
       "    .dataframe tbody tr th {\n",
       "        vertical-align: top;\n",
       "    }\n",
       "\n",
       "    .dataframe thead th {\n",
       "        text-align: right;\n",
       "    }\n",
       "</style>\n",
       "<table border=\"1\" class=\"dataframe\">\n",
       "  <thead>\n",
       "    <tr style=\"text-align: right;\">\n",
       "      <th></th>\n",
       "      <th>round_num</th>\n",
       "      <th>tick</th>\n",
       "      <th>side</th>\n",
       "      <th>team</th>\n",
       "      <th>hp</th>\n",
       "      <th>armor</th>\n",
       "      <th>is_alive</th>\n",
       "      <th>x</th>\n",
       "      <th>y</th>\n",
       "      <th>z</th>\n",
       "      <th>...</th>\n",
       "      <th>equipment_value_freezetime_end</th>\n",
       "      <th>area_name</th>\n",
       "      <th>seconds</th>\n",
       "      <th>clock_time</th>\n",
       "      <th>t_alive</th>\n",
       "      <th>ct_alive</th>\n",
       "      <th>bomb_planted</th>\n",
       "      <th>map_name</th>\n",
       "      <th>utility_used</th>\n",
       "      <th>player</th>\n",
       "    </tr>\n",
       "  </thead>\n",
       "  <tbody>\n",
       "    <tr>\n",
       "      <th>0</th>\n",
       "      <td>1</td>\n",
       "      <td>2511</td>\n",
       "      <td>T</td>\n",
       "      <td>Team1</td>\n",
       "      <td>100</td>\n",
       "      <td>100</td>\n",
       "      <td>True</td>\n",
       "      <td>-1310</td>\n",
       "      <td>-3333</td>\n",
       "      <td>294</td>\n",
       "      <td>...</td>\n",
       "      <td>900</td>\n",
       "      <td>TSpawn</td>\n",
       "      <td>0</td>\n",
       "      <td>01:55</td>\n",
       "      <td>5</td>\n",
       "      <td>5</td>\n",
       "      <td>False</td>\n",
       "      <td>de_overpass</td>\n",
       "      <td>0.0</td>\n",
       "      <td>Player0</td>\n",
       "    </tr>\n",
       "    <tr>\n",
       "      <th>1</th>\n",
       "      <td>1</td>\n",
       "      <td>2527</td>\n",
       "      <td>T</td>\n",
       "      <td>Team1</td>\n",
       "      <td>100</td>\n",
       "      <td>100</td>\n",
       "      <td>True</td>\n",
       "      <td>-1303</td>\n",
       "      <td>-3322</td>\n",
       "      <td>294</td>\n",
       "      <td>...</td>\n",
       "      <td>900</td>\n",
       "      <td>TSpawn</td>\n",
       "      <td>0</td>\n",
       "      <td>01:55</td>\n",
       "      <td>5</td>\n",
       "      <td>5</td>\n",
       "      <td>False</td>\n",
       "      <td>de_overpass</td>\n",
       "      <td>0.0</td>\n",
       "      <td>Player0</td>\n",
       "    </tr>\n",
       "    <tr>\n",
       "      <th>2</th>\n",
       "      <td>1</td>\n",
       "      <td>2543</td>\n",
       "      <td>T</td>\n",
       "      <td>Team1</td>\n",
       "      <td>100</td>\n",
       "      <td>100</td>\n",
       "      <td>True</td>\n",
       "      <td>-1290</td>\n",
       "      <td>-3303</td>\n",
       "      <td>292</td>\n",
       "      <td>...</td>\n",
       "      <td>900</td>\n",
       "      <td>TSpawn</td>\n",
       "      <td>0</td>\n",
       "      <td>01:55</td>\n",
       "      <td>5</td>\n",
       "      <td>5</td>\n",
       "      <td>False</td>\n",
       "      <td>de_overpass</td>\n",
       "      <td>0.0</td>\n",
       "      <td>Player0</td>\n",
       "    </tr>\n",
       "    <tr>\n",
       "      <th>3</th>\n",
       "      <td>1</td>\n",
       "      <td>2559</td>\n",
       "      <td>T</td>\n",
       "      <td>Team1</td>\n",
       "      <td>100</td>\n",
       "      <td>100</td>\n",
       "      <td>True</td>\n",
       "      <td>-1275</td>\n",
       "      <td>-3280</td>\n",
       "      <td>290</td>\n",
       "      <td>...</td>\n",
       "      <td>900</td>\n",
       "      <td>TSpawn</td>\n",
       "      <td>0</td>\n",
       "      <td>01:55</td>\n",
       "      <td>5</td>\n",
       "      <td>5</td>\n",
       "      <td>False</td>\n",
       "      <td>de_overpass</td>\n",
       "      <td>0.0</td>\n",
       "      <td>Player0</td>\n",
       "    </tr>\n",
       "    <tr>\n",
       "      <th>4</th>\n",
       "      <td>1</td>\n",
       "      <td>2575</td>\n",
       "      <td>T</td>\n",
       "      <td>Team1</td>\n",
       "      <td>100</td>\n",
       "      <td>100</td>\n",
       "      <td>True</td>\n",
       "      <td>-1254</td>\n",
       "      <td>-3262</td>\n",
       "      <td>288</td>\n",
       "      <td>...</td>\n",
       "      <td>900</td>\n",
       "      <td>TSpawn</td>\n",
       "      <td>1</td>\n",
       "      <td>01:55</td>\n",
       "      <td>5</td>\n",
       "      <td>5</td>\n",
       "      <td>False</td>\n",
       "      <td>de_overpass</td>\n",
       "      <td>0.0</td>\n",
       "      <td>Player0</td>\n",
       "    </tr>\n",
       "  </tbody>\n",
       "</table>\n",
       "<p>5 rows × 22 columns</p>\n",
       "</div>"
      ],
      "text/plain": [
       "   round_num  tick side   team   hp  armor  is_alive     x     y    z  ...  \\\n",
       "0          1  2511    T  Team1  100    100      True -1310 -3333  294  ...   \n",
       "1          1  2527    T  Team1  100    100      True -1303 -3322  294  ...   \n",
       "2          1  2543    T  Team1  100    100      True -1290 -3303  292  ...   \n",
       "3          1  2559    T  Team1  100    100      True -1275 -3280  290  ...   \n",
       "4          1  2575    T  Team1  100    100      True -1254 -3262  288  ...   \n",
       "\n",
       "  equipment_value_freezetime_end  area_name  seconds clock_time  t_alive  \\\n",
       "0                            900     TSpawn        0      01:55        5   \n",
       "1                            900     TSpawn        0      01:55        5   \n",
       "2                            900     TSpawn        0      01:55        5   \n",
       "3                            900     TSpawn        0      01:55        5   \n",
       "4                            900     TSpawn        1      01:55        5   \n",
       "\n",
       "  ct_alive  bomb_planted     map_name  utility_used   player  \n",
       "0        5         False  de_overpass           0.0  Player0  \n",
       "1        5         False  de_overpass           0.0  Player0  \n",
       "2        5         False  de_overpass           0.0  Player0  \n",
       "3        5         False  de_overpass           0.0  Player0  \n",
       "4        5         False  de_overpass           0.0  Player0  \n",
       "\n",
       "[5 rows x 22 columns]"
      ]
     },
     "execution_count": 2,
     "metadata": {},
     "output_type": "execute_result"
    }
   ],
   "source": [
    "game_state = ProcessGameState('data/game_state_frame_data.parquet')\n",
    "game_state.data.head()\n"
   ]
  },
  {
   "attachments": {},
   "cell_type": "markdown",
   "metadata": {},
   "source": [
    "### Create Team 2 data frames"
   ]
  },
  {
   "cell_type": "code",
   "execution_count": 3,
   "metadata": {},
   "outputs": [],
   "source": [
    "# Filter the data for Team2\n",
    "team2_data = game_state.data[game_state.data['team'] == \"Team2\"]\n",
    "\n",
    "# Separate the data into T and CT sides\n",
    "team2_T_data = team2_data[team2_data['side'] == \"T\"]\n",
    "team2_CT_data = team2_data[team2_data['side'] == \"CT\"]\n"
   ]
  },
  {
   "attachments": {},
   "cell_type": "markdown",
   "metadata": {},
   "source": [
    "## Question 1: Is entering via the light blue boundary a common strategy used by Team 2 on T side?"
   ]
  },
  {
   "cell_type": "code",
   "execution_count": 4,
   "metadata": {},
   "outputs": [],
   "source": [
    "# Define the boundaries for the light blue boundary\n",
    "xy_bounds = [(-1735, 250), (-2024, 398), (-2806, 742),\n",
    "             (-2472, 1233), (-1565, 580)]\n",
    "closed_boundary_coords = np.concatenate((xy_bounds, [xy_bounds[0]]))\n",
    "z_bounds = (285, 421)\n",
    "\n",
    "# Get the min and max of the x and y coordinates for visualization\n",
    "x_coords = [coord[0] for coord in xy_bounds]\n",
    "y_coords = [coord[1] for coord in xy_bounds]\n",
    "\n",
    "x_min = min(x_coords)\n",
    "x_max = max(x_coords)\n",
    "y_min = min(y_coords)\n",
    "y_max = max(y_coords)\n"
   ]
  },
  {
   "attachments": {},
   "cell_type": "markdown",
   "metadata": {},
   "source": [
    "### Calculate the number of times Team 2 enters via the light blue boundary using a basic boundary detection algorithm"
   ]
  },
  {
   "cell_type": "code",
   "execution_count": 9,
   "metadata": {},
   "outputs": [
    {
     "name": "stdout",
     "output_type": "stream",
     "text": [
      "[0, 19, 4, 0, 0, 0, 0, 0, 0, 0, 0, 0, 0, 0, 0]\n",
      "The number of rounds that Team 2 enters the boundary on T side is 2 out of 15 rounds.\n"
     ]
    }
   ],
   "source": [
    "# Get the number of times the player is in bounds for each round\n",
    "team2_T_in_bounds = game_state.check_boundaries(\n",
    "    xy_bounds, z_bounds, team2_T_data)\n",
    "print(team2_T_in_bounds)\n",
    "\n",
    "# Get the number of rounds the boundary is entered\n",
    "team2_T_entered = [True if num > 0 else False for num in team2_T_in_bounds]\n",
    "team2_T_entered_count = {True: 0, False: 0}\n",
    "for round in team2_T_entered:\n",
    "    team2_T_entered_count[round] += 1\n",
    "\n",
    "print(\"The number of rounds that Team 2 enters the boundary on T side is \" +\n",
    "      str(team2_T_entered_count[True]) + \" out of \" + str(len(team2_T_in_bounds)) + \" rounds.\")\n"
   ]
  },
  {
   "attachments": {},
   "cell_type": "markdown",
   "metadata": {},
   "source": [
    "### Calculate the number of times Team 2 enters via the light blue boundary using a more advanced boundary detection algorithm (Matplotlib Path class)"
   ]
  },
  {
   "cell_type": "code",
   "execution_count": 10,
   "metadata": {},
   "outputs": [
    {
     "name": "stdout",
     "output_type": "stream",
     "text": [
      "[0, 19, 0, 0, 0, 0, 0, 0, 0, 0, 0, 0, 0, 0, 0]\n",
      "The number of rounds that Team 2 enters the boundary on T side is 1 out of 15 rounds.\n"
     ]
    }
   ],
   "source": [
    "# Get the number of times the player is in bounds for each round\n",
    "team2_T_in_bounds = game_state.check_boundaries_with_matplotlib(\n",
    "    closed_boundary_coords, z_bounds, team2_T_data)\n",
    "print(team2_T_in_bounds)\n",
    "\n",
    "# Get the number of rounds the boundary is entered\n",
    "team2_T_entered = [True if num > 0 else False for num in team2_T_in_bounds]\n",
    "team2_T_entered_count = {True: 0, False: 0}\n",
    "for round in team2_T_entered:\n",
    "    team2_T_entered_count[round] += 1\n",
    "\n",
    "print(\"The number of rounds that Team 2 enters the boundary on T side is \" +\n",
    "      str(team2_T_entered_count[True]) + \" out of \" + str(len(team2_T_in_bounds)) + \" rounds.\")\n"
   ]
  },
  {
   "attachments": {},
   "cell_type": "markdown",
   "metadata": {},
   "source": [
    "### Visualize the boundary detection algorithms"
   ]
  },
  {
   "attachments": {},
   "cell_type": "markdown",
   "metadata": {},
   "source": [
    "#### Basic boundary detection algorithm"
   ]
  },
  {
   "cell_type": "code",
   "execution_count": 7,
   "metadata": {},
   "outputs": [
    {
     "data": {
      "image/png": "[encoded data removed]",
      "text/plain": [
       "<Figure size 432x288 with 1 Axes>"
      ]
     },
     "metadata": {
      "needs_background": "light"
     },
     "output_type": "display_data"
    }
   ],
   "source": [
    "fig, ax = plt.subplots()\n",
    "rect = mpatches.Rectangle((x_min, y_min), x_max - x_min,\n",
    "                          y_max - y_min, fill=False, edgecolor='blue')\n",
    "ax.add_patch(rect)\n",
    "ax.set_xlim(x_min - 100, x_max + 100)  # Set the x-axis limits\n",
    "ax.set_ylim(y_min - 100, y_max + 100)  # Set the y-axis limits\n",
    "plt.gca().set_aspect('equal', adjustable='box')  # Set aspect ratio to equal\n",
    "plt.show()\n"
   ]
  },
  {
   "cell_type": "code",
   "execution_count": 8,
   "metadata": {},
   "outputs": [
    {
     "data": {
      "image/png": "[encoded data removed]",
      "text/plain": [
       "<Figure size 432x288 with 1 Axes>"
      ]
     },
     "metadata": {
      "needs_background": "light"
     },
     "output_type": "display_data"
    }
   ],
   "source": [
    "boundary_path = mpath.Path(closed_boundary_coords)\n",
    "\n",
    "fig, ax = plt.subplots()\n",
    "patch = mpatches.PathPatch(boundary_path, facecolor='none', edgecolor='blue')\n",
    "ax.add_patch(patch)\n",
    "ax.set_xlim(x_min - 100, x_max + 100)  # Set the x-axis limits\n",
    "ax.set_ylim(y_min - 100, y_max + 100)  # Set the y-axis limits\n",
    "plt.gca().set_aspect('equal', adjustable='box')  # Set aspect ratio to equal\n",
    "plt.show()\n"
   ]
  },
  {
   "attachments": {},
   "cell_type": "markdown",
   "metadata": {},
   "source": [
    "## Question 2: What is the average timer that Team 2 on T side enters Bombsite B with at least 2 rifles or SMGs?"
   ]
  },
  {
   "attachments": {},
   "cell_type": "markdown",
   "metadata": {},
   "source": [
    "## Question 3: Where should we suspect Team 2 on CT side to be waiting inside Bombsite B?"
   ]
  }
 ],
 "metadata": {
  "kernelspec": {
   "display_name": "base",
   "language": "python",
   "name": "python3"
  },
  "language_info": {
   "codemirror_mode": {
    "name": "ipython",
    "version": 3
   },
   "file_extension": ".py",
   "mimetype": "text/x-python",
   "name": "python",
   "nbconvert_exporter": "python",
   "pygments_lexer": "ipython3",
   "version": "3.10.9"
  },
  "orig_nbformat": 4
 },
 "nbformat": 4,
 "nbformat_minor": 2
}
