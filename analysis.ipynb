{
 "cells": [
  {
   "attachments": {},
   "cell_type": "markdown",
   "metadata": {},
   "source": [
    "# Counter Strike Coaching Strategies - Script"
   ]
  },
  {
   "attachments": {},
   "cell_type": "markdown",
   "metadata": {},
   "source": [
    "### Import libraries and class"
   ]
  },
  {
   "cell_type": "code",
   "execution_count": 71,
   "metadata": {},
   "outputs": [],
   "source": [
    "import pandas as pd\n",
    "import matplotlib.pyplot as plt\n",
    "import matplotlib.path as mpath\n",
    "import matplotlib.patches as mpatches\n",
    "import matplotlib.image as mpimg\n",
    "import numpy as np\n",
    "import seaborn as sns\n",
    "from process_game_state import ProcessGameState"
   ]
  },
  {
   "attachments": {},
   "cell_type": "markdown",
   "metadata": {},
   "source": [
    "### Create game state instance"
   ]
  },
  {
   "cell_type": "code",
   "execution_count": 72,
   "metadata": {},
   "outputs": [
    {
     "data": {
      "text/html": [
       "<div>\n",
       "<style scoped>\n",
       "    .dataframe tbody tr th:only-of-type {\n",
       "        vertical-align: middle;\n",
       "    }\n",
       "\n",
       "    .dataframe tbody tr th {\n",
       "        vertical-align: top;\n",
       "    }\n",
       "\n",
       "    .dataframe thead th {\n",
       "        text-align: right;\n",
       "    }\n",
       "</style>\n",
       "<table border=\"1\" class=\"dataframe\">\n",
       "  <thead>\n",
       "    <tr style=\"text-align: right;\">\n",
       "      <th></th>\n",
       "      <th>round_num</th>\n",
       "      <th>tick</th>\n",
       "      <th>side</th>\n",
       "      <th>team</th>\n",
       "      <th>hp</th>\n",
       "      <th>armor</th>\n",
       "      <th>is_alive</th>\n",
       "      <th>x</th>\n",
       "      <th>y</th>\n",
       "      <th>z</th>\n",
       "      <th>...</th>\n",
       "      <th>equipment_value_freezetime_end</th>\n",
       "      <th>area_name</th>\n",
       "      <th>seconds</th>\n",
       "      <th>clock_time</th>\n",
       "      <th>t_alive</th>\n",
       "      <th>ct_alive</th>\n",
       "      <th>bomb_planted</th>\n",
       "      <th>map_name</th>\n",
       "      <th>utility_used</th>\n",
       "      <th>player</th>\n",
       "    </tr>\n",
       "  </thead>\n",
       "  <tbody>\n",
       "    <tr>\n",
       "      <th>0</th>\n",
       "      <td>1</td>\n",
       "      <td>2511</td>\n",
       "      <td>T</td>\n",
       "      <td>Team1</td>\n",
       "      <td>100</td>\n",
       "      <td>100</td>\n",
       "      <td>True</td>\n",
       "      <td>-1310</td>\n",
       "      <td>-3333</td>\n",
       "      <td>294</td>\n",
       "      <td>...</td>\n",
       "      <td>900</td>\n",
       "      <td>TSpawn</td>\n",
       "      <td>0</td>\n",
       "      <td>01:55</td>\n",
       "      <td>5</td>\n",
       "      <td>5</td>\n",
       "      <td>False</td>\n",
       "      <td>de_overpass</td>\n",
       "      <td>0.0</td>\n",
       "      <td>Player0</td>\n",
       "    </tr>\n",
       "    <tr>\n",
       "      <th>1</th>\n",
       "      <td>1</td>\n",
       "      <td>2527</td>\n",
       "      <td>T</td>\n",
       "      <td>Team1</td>\n",
       "      <td>100</td>\n",
       "      <td>100</td>\n",
       "      <td>True</td>\n",
       "      <td>-1303</td>\n",
       "      <td>-3322</td>\n",
       "      <td>294</td>\n",
       "      <td>...</td>\n",
       "      <td>900</td>\n",
       "      <td>TSpawn</td>\n",
       "      <td>0</td>\n",
       "      <td>01:55</td>\n",
       "      <td>5</td>\n",
       "      <td>5</td>\n",
       "      <td>False</td>\n",
       "      <td>de_overpass</td>\n",
       "      <td>0.0</td>\n",
       "      <td>Player0</td>\n",
       "    </tr>\n",
       "    <tr>\n",
       "      <th>2</th>\n",
       "      <td>1</td>\n",
       "      <td>2543</td>\n",
       "      <td>T</td>\n",
       "      <td>Team1</td>\n",
       "      <td>100</td>\n",
       "      <td>100</td>\n",
       "      <td>True</td>\n",
       "      <td>-1290</td>\n",
       "      <td>-3303</td>\n",
       "      <td>292</td>\n",
       "      <td>...</td>\n",
       "      <td>900</td>\n",
       "      <td>TSpawn</td>\n",
       "      <td>0</td>\n",
       "      <td>01:55</td>\n",
       "      <td>5</td>\n",
       "      <td>5</td>\n",
       "      <td>False</td>\n",
       "      <td>de_overpass</td>\n",
       "      <td>0.0</td>\n",
       "      <td>Player0</td>\n",
       "    </tr>\n",
       "    <tr>\n",
       "      <th>3</th>\n",
       "      <td>1</td>\n",
       "      <td>2559</td>\n",
       "      <td>T</td>\n",
       "      <td>Team1</td>\n",
       "      <td>100</td>\n",
       "      <td>100</td>\n",
       "      <td>True</td>\n",
       "      <td>-1275</td>\n",
       "      <td>-3280</td>\n",
       "      <td>290</td>\n",
       "      <td>...</td>\n",
       "      <td>900</td>\n",
       "      <td>TSpawn</td>\n",
       "      <td>0</td>\n",
       "      <td>01:55</td>\n",
       "      <td>5</td>\n",
       "      <td>5</td>\n",
       "      <td>False</td>\n",
       "      <td>de_overpass</td>\n",
       "      <td>0.0</td>\n",
       "      <td>Player0</td>\n",
       "    </tr>\n",
       "    <tr>\n",
       "      <th>4</th>\n",
       "      <td>1</td>\n",
       "      <td>2575</td>\n",
       "      <td>T</td>\n",
       "      <td>Team1</td>\n",
       "      <td>100</td>\n",
       "      <td>100</td>\n",
       "      <td>True</td>\n",
       "      <td>-1254</td>\n",
       "      <td>-3262</td>\n",
       "      <td>288</td>\n",
       "      <td>...</td>\n",
       "      <td>900</td>\n",
       "      <td>TSpawn</td>\n",
       "      <td>1</td>\n",
       "      <td>01:55</td>\n",
       "      <td>5</td>\n",
       "      <td>5</td>\n",
       "      <td>False</td>\n",
       "      <td>de_overpass</td>\n",
       "      <td>0.0</td>\n",
       "      <td>Player0</td>\n",
       "    </tr>\n",
       "  </tbody>\n",
       "</table>\n",
       "<p>5 rows × 22 columns</p>\n",
       "</div>"
      ],
      "text/plain": [
       "   round_num  tick side   team   hp  armor  is_alive     x     y    z  ...  \\\n",
       "0          1  2511    T  Team1  100    100      True -1310 -3333  294  ...   \n",
       "1          1  2527    T  Team1  100    100      True -1303 -3322  294  ...   \n",
       "2          1  2543    T  Team1  100    100      True -1290 -3303  292  ...   \n",
       "3          1  2559    T  Team1  100    100      True -1275 -3280  290  ...   \n",
       "4          1  2575    T  Team1  100    100      True -1254 -3262  288  ...   \n",
       "\n",
       "  equipment_value_freezetime_end  area_name  seconds clock_time  t_alive  \\\n",
       "0                            900     TSpawn        0      01:55        5   \n",
       "1                            900     TSpawn        0      01:55        5   \n",
       "2                            900     TSpawn        0      01:55        5   \n",
       "3                            900     TSpawn        0      01:55        5   \n",
       "4                            900     TSpawn        1      01:55        5   \n",
       "\n",
       "  ct_alive  bomb_planted     map_name  utility_used   player  \n",
       "0        5         False  de_overpass           0.0  Player0  \n",
       "1        5         False  de_overpass           0.0  Player0  \n",
       "2        5         False  de_overpass           0.0  Player0  \n",
       "3        5         False  de_overpass           0.0  Player0  \n",
       "4        5         False  de_overpass           0.0  Player0  \n",
       "\n",
       "[5 rows x 22 columns]"
      ]
     },
     "execution_count": 72,
     "metadata": {},
     "output_type": "execute_result"
    }
   ],
   "source": [
    "game_state = ProcessGameState('data/game_state_frame_data.parquet')\n",
    "game_state.data.head()"
   ]
  },
  {
   "attachments": {},
   "cell_type": "markdown",
   "metadata": {},
   "source": [
    "## Question 1: Is entering via the light blue boundary a common strategy used by Team 2 on T side?"
   ]
  },
  {
   "cell_type": "code",
   "execution_count": 73,
   "metadata": {},
   "outputs": [],
   "source": [
    "# Define the boundaries for the light blue boundary\n",
    "xy_bounds = [(-1735, 250), (-2024, 398), (-2806, 742),\n",
    "             (-2472, 1233), (-1565, 580)]\n",
    "closed_boundary_coords = np.concatenate((xy_bounds, [xy_bounds[0]]))\n",
    "z_bounds = (285, 421)\n",
    "\n",
    "# Get the min and max of the x and y coordinates for visualization\n",
    "x_coords = [coord[0] for coord in xy_bounds]\n",
    "y_coords = [coord[1] for coord in xy_bounds]\n",
    "\n",
    "x_min = min(x_coords)\n",
    "x_max = max(x_coords)\n",
    "y_min = min(y_coords)\n",
    "y_max = max(y_coords)\n"
   ]
  },
  {
   "attachments": {},
   "cell_type": "markdown",
   "metadata": {},
   "source": [
    "### Calculate the number of times Team 2 enters via the light blue boundary using a basic boundary detection algorithm"
   ]
  },
  {
   "cell_type": "code",
   "execution_count": 74,
   "metadata": {},
   "outputs": [
    {
     "name": "stdout",
     "output_type": "stream",
     "text": [
      "[0, 19, 4, 0, 0, 0, 0, 0, 0, 0, 0, 0, 0, 0, 0]\n",
      "The number of rounds that Team 2 enters the boundary on T side is 2 out of 15 rounds.\n"
     ]
    }
   ],
   "source": [
    "# Get the number of times the player is in bounds for each round\n",
    "team2_T_in_bounds = game_state.check_boundaries(\n",
    "    xy_bounds, z_bounds, \"Team2\", \"T\")\n",
    "print(team2_T_in_bounds)\n",
    "\n",
    "# Get the number of rounds the boundary is entered\n",
    "team2_T_entered = [True if num > 0 else False for num in team2_T_in_bounds]\n",
    "team2_T_entered_count = {True: 0, False: 0}\n",
    "for round in team2_T_entered:\n",
    "    team2_T_entered_count[round] += 1\n",
    "\n",
    "print(\"The number of rounds that Team 2 enters the boundary on T side is \" +\n",
    "      str(team2_T_entered_count[True]) + \" out of \" + str(len(team2_T_in_bounds)) + \" rounds.\")\n"
   ]
  },
  {
   "attachments": {},
   "cell_type": "markdown",
   "metadata": {},
   "source": [
    "### Calculate the number of times Team 2 enters via the light blue boundary using a more advanced boundary detection algorithm (Matplotlib Path class)"
   ]
  },
  {
   "cell_type": "code",
   "execution_count": 75,
   "metadata": {},
   "outputs": [
    {
     "name": "stdout",
     "output_type": "stream",
     "text": [
      "[0, 19, 0, 0, 0, 0, 0, 0, 0, 0, 0, 0, 0, 0, 0]\n",
      "The number of rounds that Team 2 enters the boundary on T side is 1 out of 15 rounds.\n"
     ]
    }
   ],
   "source": [
    "# Get the number of times the player is in bounds for each round\n",
    "team2_T_in_bounds = game_state.check_boundaries_with_matplotlib(\n",
    "    closed_boundary_coords, z_bounds, \"Team2\", \"T\")\n",
    "print(team2_T_in_bounds)\n",
    "\n",
    "# Get the number of rounds the boundary is entered\n",
    "team2_T_entered = [True if num > 0 else False for num in team2_T_in_bounds]\n",
    "team2_T_entered_count = {True: 0, False: 0}\n",
    "for round in team2_T_entered:\n",
    "    team2_T_entered_count[round] += 1\n",
    "\n",
    "print(\"The number of rounds that Team 2 enters the boundary on T side is \" +\n",
    "      str(team2_T_entered_count[True]) + \" out of \" + str(len(team2_T_in_bounds)) + \" rounds.\")\n"
   ]
  },
  {
   "cell_type": "code",
   "execution_count": null,
   "metadata": {},
   "outputs": [],
   "source": [
    "# Benchmark for Naive Method\n",
    "%timeit -r 3 -n 10 game_state.check_boundaries(xy_bounds, z_bounds, \"Team2\", \"T\")"
   ]
  },
  {
   "cell_type": "code",
   "execution_count": null,
   "metadata": {},
   "outputs": [],
   "source": [
    "# Benchmark for Matplotlib Method\n",
    "%timeit -r 3 -n 10 game_state.check_boundaries_with_matplotlib(xy_bounds, z_bounds, \"Team2\", \"T\")"
   ]
  },
  {
   "attachments": {},
   "cell_type": "markdown",
   "metadata": {},
   "source": [
    "### Visualize the boundary detection algorithms"
   ]
  },
  {
   "attachments": {},
   "cell_type": "markdown",
   "metadata": {},
   "source": [
    "#### Basic boundary detection algorithm"
   ]
  },
  {
   "cell_type": "code",
   "execution_count": 76,
   "metadata": {},
   "outputs": [
    {
     "data": {
      "image/png": "[encoded data removed]",
      "text/plain": [
       "<Figure size 432x288 with 1 Axes>"
      ]
     },
     "metadata": {},
     "output_type": "display_data"
    }
   ],
   "source": [
    "fig, ax = plt.subplots()\n",
    "fig.patch.set_facecolor('white')\n",
    "rect = mpatches.Rectangle((x_min, y_min), x_max - x_min,\n",
    "                          y_max - y_min, fill=False, edgecolor='blue')\n",
    "ax.add_patch(rect)\n",
    "ax.set_xlim(x_min - 100, x_max + 100)  # Set the x-axis limits\n",
    "ax.set_ylim(y_min - 100, y_max + 100)  # Set the y-axis limits\n",
    "ax.set_title('Box Boundary')\n",
    "ax.set_xlabel('x')\n",
    "ax.set_ylabel('y')\n",
    "plt.gca().set_aspect('equal', adjustable='box')  # Set aspect ratio to equal\n",
    "plt.show()\n"
   ]
  },
  {
   "cell_type": "code",
   "execution_count": 77,
   "metadata": {},
   "outputs": [
    {
     "data": {
      "image/png": "[encoded data removed]",
      "text/plain": [
       "<Figure size 432x288 with 1 Axes>"
      ]
     },
     "metadata": {},
     "output_type": "display_data"
    }
   ],
   "source": [
    "boundary_path = mpath.Path(closed_boundary_coords)\n",
    "\n",
    "fig, ax = plt.subplots()\n",
    "fig.patch.set_facecolor('white')\n",
    "patch = mpatches.PathPatch(boundary_path, facecolor='none', edgecolor='blue')\n",
    "ax.add_patch(patch)\n",
    "ax.set_xlim(x_min - 100, x_max + 100)  # Set the x-axis limits\n",
    "ax.set_ylim(y_min - 100, y_max + 100)  # Set the y-axis limits\n",
    "ax.set_title('Path Boundary')\n",
    "ax.set_xlabel('x')\n",
    "ax.set_ylabel('y')\n",
    "plt.gca().set_aspect('equal', adjustable='box')  # Set aspect ratio to equal\n",
    "plt.show()\n",
    "\n"
   ]
  },
  {
   "attachments": {},
   "cell_type": "markdown",
   "metadata": {},
   "source": [
    "## Question 2: What is the average timer that Team 2 on T side enters Bombsite B with at least 2 rifles or SMGs?"
   ]
  },
  {
   "attachments": {},
   "cell_type": "markdown",
   "metadata": {},
   "source": [
    "### Extract weapon classes for each row"
   ]
  },
  {
   "cell_type": "code",
   "execution_count": 78,
   "metadata": {},
   "outputs": [
    {
     "data": {
      "text/html": [
       "<div>\n",
       "<style scoped>\n",
       "    .dataframe tbody tr th:only-of-type {\n",
       "        vertical-align: middle;\n",
       "    }\n",
       "\n",
       "    .dataframe tbody tr th {\n",
       "        vertical-align: top;\n",
       "    }\n",
       "\n",
       "    .dataframe thead th {\n",
       "        text-align: right;\n",
       "    }\n",
       "</style>\n",
       "<table border=\"1\" class=\"dataframe\">\n",
       "  <thead>\n",
       "    <tr style=\"text-align: right;\">\n",
       "      <th></th>\n",
       "      <th>round_num</th>\n",
       "      <th>tick</th>\n",
       "      <th>side</th>\n",
       "      <th>team</th>\n",
       "      <th>hp</th>\n",
       "      <th>armor</th>\n",
       "      <th>is_alive</th>\n",
       "      <th>x</th>\n",
       "      <th>y</th>\n",
       "      <th>z</th>\n",
       "      <th>...</th>\n",
       "      <th>area_name</th>\n",
       "      <th>seconds</th>\n",
       "      <th>clock_time</th>\n",
       "      <th>t_alive</th>\n",
       "      <th>ct_alive</th>\n",
       "      <th>bomb_planted</th>\n",
       "      <th>map_name</th>\n",
       "      <th>utility_used</th>\n",
       "      <th>player</th>\n",
       "      <th>weapon_classes</th>\n",
       "    </tr>\n",
       "  </thead>\n",
       "  <tbody>\n",
       "    <tr>\n",
       "      <th>0</th>\n",
       "      <td>1</td>\n",
       "      <td>2511</td>\n",
       "      <td>T</td>\n",
       "      <td>Team1</td>\n",
       "      <td>100</td>\n",
       "      <td>100</td>\n",
       "      <td>True</td>\n",
       "      <td>-1310</td>\n",
       "      <td>-3333</td>\n",
       "      <td>294</td>\n",
       "      <td>...</td>\n",
       "      <td>TSpawn</td>\n",
       "      <td>0</td>\n",
       "      <td>01:55</td>\n",
       "      <td>5</td>\n",
       "      <td>5</td>\n",
       "      <td>False</td>\n",
       "      <td>de_overpass</td>\n",
       "      <td>0.0</td>\n",
       "      <td>Player0</td>\n",
       "      <td>[Pistols, Grenade]</td>\n",
       "    </tr>\n",
       "    <tr>\n",
       "      <th>1</th>\n",
       "      <td>1</td>\n",
       "      <td>2527</td>\n",
       "      <td>T</td>\n",
       "      <td>Team1</td>\n",
       "      <td>100</td>\n",
       "      <td>100</td>\n",
       "      <td>True</td>\n",
       "      <td>-1303</td>\n",
       "      <td>-3322</td>\n",
       "      <td>294</td>\n",
       "      <td>...</td>\n",
       "      <td>TSpawn</td>\n",
       "      <td>0</td>\n",
       "      <td>01:55</td>\n",
       "      <td>5</td>\n",
       "      <td>5</td>\n",
       "      <td>False</td>\n",
       "      <td>de_overpass</td>\n",
       "      <td>0.0</td>\n",
       "      <td>Player0</td>\n",
       "      <td>[Pistols, Grenade]</td>\n",
       "    </tr>\n",
       "    <tr>\n",
       "      <th>2</th>\n",
       "      <td>1</td>\n",
       "      <td>2543</td>\n",
       "      <td>T</td>\n",
       "      <td>Team1</td>\n",
       "      <td>100</td>\n",
       "      <td>100</td>\n",
       "      <td>True</td>\n",
       "      <td>-1290</td>\n",
       "      <td>-3303</td>\n",
       "      <td>292</td>\n",
       "      <td>...</td>\n",
       "      <td>TSpawn</td>\n",
       "      <td>0</td>\n",
       "      <td>01:55</td>\n",
       "      <td>5</td>\n",
       "      <td>5</td>\n",
       "      <td>False</td>\n",
       "      <td>de_overpass</td>\n",
       "      <td>0.0</td>\n",
       "      <td>Player0</td>\n",
       "      <td>[Pistols, Grenade]</td>\n",
       "    </tr>\n",
       "    <tr>\n",
       "      <th>3</th>\n",
       "      <td>1</td>\n",
       "      <td>2559</td>\n",
       "      <td>T</td>\n",
       "      <td>Team1</td>\n",
       "      <td>100</td>\n",
       "      <td>100</td>\n",
       "      <td>True</td>\n",
       "      <td>-1275</td>\n",
       "      <td>-3280</td>\n",
       "      <td>290</td>\n",
       "      <td>...</td>\n",
       "      <td>TSpawn</td>\n",
       "      <td>0</td>\n",
       "      <td>01:55</td>\n",
       "      <td>5</td>\n",
       "      <td>5</td>\n",
       "      <td>False</td>\n",
       "      <td>de_overpass</td>\n",
       "      <td>0.0</td>\n",
       "      <td>Player0</td>\n",
       "      <td>[Pistols, Grenade]</td>\n",
       "    </tr>\n",
       "    <tr>\n",
       "      <th>4</th>\n",
       "      <td>1</td>\n",
       "      <td>2575</td>\n",
       "      <td>T</td>\n",
       "      <td>Team1</td>\n",
       "      <td>100</td>\n",
       "      <td>100</td>\n",
       "      <td>True</td>\n",
       "      <td>-1254</td>\n",
       "      <td>-3262</td>\n",
       "      <td>288</td>\n",
       "      <td>...</td>\n",
       "      <td>TSpawn</td>\n",
       "      <td>1</td>\n",
       "      <td>01:55</td>\n",
       "      <td>5</td>\n",
       "      <td>5</td>\n",
       "      <td>False</td>\n",
       "      <td>de_overpass</td>\n",
       "      <td>0.0</td>\n",
       "      <td>Player0</td>\n",
       "      <td>[Pistols, Grenade]</td>\n",
       "    </tr>\n",
       "  </tbody>\n",
       "</table>\n",
       "<p>5 rows × 23 columns</p>\n",
       "</div>"
      ],
      "text/plain": [
       "   round_num  tick side   team   hp  armor  is_alive     x     y    z  ...  \\\n",
       "0          1  2511    T  Team1  100    100      True -1310 -3333  294  ...   \n",
       "1          1  2527    T  Team1  100    100      True -1303 -3322  294  ...   \n",
       "2          1  2543    T  Team1  100    100      True -1290 -3303  292  ...   \n",
       "3          1  2559    T  Team1  100    100      True -1275 -3280  290  ...   \n",
       "4          1  2575    T  Team1  100    100      True -1254 -3262  288  ...   \n",
       "\n",
       "  area_name  seconds  clock_time t_alive  ct_alive bomb_planted     map_name  \\\n",
       "0    TSpawn        0       01:55       5         5        False  de_overpass   \n",
       "1    TSpawn        0       01:55       5         5        False  de_overpass   \n",
       "2    TSpawn        0       01:55       5         5        False  de_overpass   \n",
       "3    TSpawn        0       01:55       5         5        False  de_overpass   \n",
       "4    TSpawn        1       01:55       5         5        False  de_overpass   \n",
       "\n",
       "   utility_used   player      weapon_classes  \n",
       "0           0.0  Player0  [Pistols, Grenade]  \n",
       "1           0.0  Player0  [Pistols, Grenade]  \n",
       "2           0.0  Player0  [Pistols, Grenade]  \n",
       "3           0.0  Player0  [Pistols, Grenade]  \n",
       "4           0.0  Player0  [Pistols, Grenade]  \n",
       "\n",
       "[5 rows x 23 columns]"
      ]
     },
     "execution_count": 78,
     "metadata": {},
     "output_type": "execute_result"
    }
   ],
   "source": [
    "game_state.extract_weapon_classes()\n",
    "game_state.data.head()"
   ]
  },
  {
   "cell_type": "code",
   "execution_count": 79,
   "metadata": {},
   "outputs": [
    {
     "name": "stdout",
     "output_type": "stream",
     "text": [
      "The mean time that Team 2 enters the bombsite on T side with rifles or SMGs is 01:12.\n"
     ]
    }
   ],
   "source": [
    "# Subset the data to Team 2 on T side entering Bombsite B with rifles or SMGs\n",
    "team2_T_data = game_state.data[(game_state.data['team'] == 'Team2') & (\n",
    "    game_state.data['side'] == 'T') & (game_state.data['area_name'] == 'BombsiteB')]\n",
    "\n",
    "team2_T_data = team2_T_data[team2_T_data['weapon_classes'].apply(\n",
    "    lambda x: 'Rifle' in x or 'SMG' in x)]\n",
    "\n",
    "# Create a list of the earliest timer in each round\n",
    "earliest_timers = []\n",
    "for round in team2_T_data['round_num'].unique():\n",
    "    curr_round = team2_T_data[team2_T_data['round_num'] == round]\n",
    "    earliest_timers.append(curr_round['clock_time'].max())\n",
    "\n",
    "# Find the mean of the datetime objects in the list\n",
    "mean_time = pd.to_datetime(earliest_timers, format=\"%M:%S\").mean()\n",
    "\n",
    "# Convert the mean time to a string\n",
    "mean_time = mean_time.strftime(\"%M:%S\")\n",
    "\n",
    "print(\"The mean time that Team 2 enters the bombsite on T side with rifles or SMGs is \" + mean_time + \".\")\n"
   ]
  },
  {
   "attachments": {},
   "cell_type": "markdown",
   "metadata": {},
   "source": [
    "## Question 3: Where should we suspect Team 2 on CT side to be waiting inside Bombsite B?"
   ]
  },
  {
   "cell_type": "code",
   "execution_count": 81,
   "metadata": {},
   "outputs": [
    {
     "data": {
      "text/plain": [
       "<Figure size 1440x1440 with 0 Axes>"
      ]
     },
     "metadata": {},
     "output_type": "display_data"
    },
    {
     "data": {
      "image/png": "[encoded data removed]",
      "text/plain": [
       "<Figure size 432x288 with 2 Axes>"
      ]
     },
     "metadata": {},
     "output_type": "display_data"
    }
   ],
   "source": [
    "# Subset the data to Team 2 on CT side waiting on Bombsite B before the bomb is planted\n",
    "team2_CT_data = game_state.data[(game_state.data['team'] == 'Team2') & (\n",
    "    game_state.data['side'] == 'CT') & (game_state.data['area_name'] == 'BombsiteB') & (game_state.data['bomb_planted'] == False)]\n",
    "\n",
    "# Create a heatmap of the positions of the CT players overlaid with the map radar\n",
    "img = mpimg.imread('map/de_overpass_radar.jpeg')\n",
    "plt.figure(figsize=(20, 20))\n",
    "fig, ax = plt.subplots()\n",
    "fig.patch.set_facecolor('white')\n",
    "ax.imshow(img, extent=[-5100, 0, -3750, 2000])\n",
    "\n",
    "# Create the heatmap with seaborn histplot\n",
    "heatmap = sns.histplot(x=team2_CT_data['x'], y=team2_CT_data['y'],\n",
    "                       cmap='Reds', bins=5, pthresh=0.05, cbar=True, ax=ax, cbar_kws={'label': 'Number of Rows'})\n",
    "\n",
    "ax.set_xlim(-2806, 0)  # Set the x-axis limits\n",
    "ax.set_ylim(-1233, 1233)  # Set the y-axis limits\n",
    "\n",
    "plt.gca().set_aspect('equal', adjustable='box')  # Set aspect ratio to equal\n",
    "plt.show()\n"
   ]
  }
 ],
 "metadata": {
  "kernelspec": {
   "display_name": "base",
   "language": "python",
   "name": "python3"
  },
  "language_info": {
   "codemirror_mode": {
    "name": "ipython",
    "version": 3
   },
   "file_extension": ".py",
   "mimetype": "text/x-python",
   "name": "python",
   "nbconvert_exporter": "python",
   "pygments_lexer": "ipython3",
   "version": "3.10.9"
  },
  "orig_nbformat": 4
 },
 "nbformat": 4,
 "nbformat_minor": 2
}
