{
 "cells": [
  {
   "attachments": {},
   "cell_type": "markdown",
   "metadata": {},
   "source": [
    "# Counter Strike Coaching Strategies - Analysis"
   ]
  },
  {
   "attachments": {},
   "cell_type": "markdown",
   "metadata": {},
   "source": [
    "### Import class and libraries"
   ]
  },
  {
   "cell_type": "code",
   "execution_count": null,
   "metadata": {},
   "outputs": [],
   "source": [
    "import pandas as pd\n",
    "import matplotlib.pyplot as plt\n",
    "import matplotlib.path as mpath\n",
    "import matplotlib.patches as mpatches\n",
    "import matplotlib.image as mpimg\n",
    "import numpy as np\n",
    "import seaborn as sns\n",
    "from process_game_state import ProcessGameState\n"
   ]
  },
  {
   "attachments": {},
   "cell_type": "markdown",
   "metadata": {},
   "source": [
    "### Create game state instance"
   ]
  },
  {
   "cell_type": "code",
   "execution_count": null,
   "metadata": {},
   "outputs": [],
   "source": [
    "game_state = ProcessGameState('data/game_state_frame_data.parquet')\n",
    "game_state.data.head()\n"
   ]
  },
  {
   "attachments": {},
   "cell_type": "markdown",
   "metadata": {},
   "source": [
    "## Question 1: Is entering via the light blue boundary a common strategy used by Team 2 on T side?"
   ]
  },
  {
   "cell_type": "code",
   "execution_count": null,
   "metadata": {},
   "outputs": [],
   "source": [
    "# Define the boundaries for the light blue boundary\n",
    "xy_bounds = [(-1735, 250), (-2024, 398), (-2806, 742),\n",
    "             (-2472, 1233), (-1565, 580)]\n",
    "closed_boundary_coords = np.concatenate((xy_bounds, [xy_bounds[0]]))\n",
    "z_bounds = (285, 421)\n",
    "\n",
    "# Get the min and max of the x and y coordinates for visualization\n",
    "x_coords = [coord[0] for coord in xy_bounds]\n",
    "y_coords = [coord[1] for coord in xy_bounds]\n",
    "\n",
    "x_min = min(x_coords)\n",
    "x_max = max(x_coords)\n",
    "y_min = min(y_coords)\n",
    "y_max = max(y_coords)\n"
   ]
  },
  {
   "attachments": {},
   "cell_type": "markdown",
   "metadata": {},
   "source": [
    "### Calculate the number of times Team 2 enters via the light blue boundary using a basic boundary detection algorithm"
   ]
  },
  {
   "cell_type": "code",
   "execution_count": null,
   "metadata": {},
   "outputs": [],
   "source": [
    "# Get the number of times the player is in bounds for each round\n",
    "team2_T_in_bounds = game_state.check_boundaries(\n",
    "    xy_bounds, z_bounds, \"Team2\", \"T\")\n",
    "print(team2_T_in_bounds)\n",
    "\n",
    "# Get the number of rounds the boundary is entered\n",
    "team2_T_entered = [True if num > 0 else False for num in team2_T_in_bounds]\n",
    "team2_T_entered_count = {True: 0, False: 0}\n",
    "for round in team2_T_entered:\n",
    "    team2_T_entered_count[round] += 1\n",
    "\n",
    "print(\"The number of rounds that Team 2 enters the boundary on T side is \" +\n",
    "      str(team2_T_entered_count[True]) + \" out of \" + str(len(team2_T_in_bounds)) + \" rounds.\")\n"
   ]
  },
  {
   "attachments": {},
   "cell_type": "markdown",
   "metadata": {},
   "source": [
    "### Calculate the number of times Team 2 enters via the light blue boundary using a more advanced boundary detection algorithm (Matplotlib Path class)"
   ]
  },
  {
   "cell_type": "code",
   "execution_count": null,
   "metadata": {},
   "outputs": [],
   "source": [
    "# Get the number of times the player is in bounds for each round\n",
    "team2_T_in_bounds = game_state.check_boundaries_with_matplotlib(\n",
    "    closed_boundary_coords, z_bounds, \"Team2\", \"T\")\n",
    "print(team2_T_in_bounds)\n",
    "\n",
    "# Get the number of rounds the boundary is entered\n",
    "team2_T_entered = [True if num > 0 else False for num in team2_T_in_bounds]\n",
    "team2_T_entered_count = {True: 0, False: 0}\n",
    "for round in team2_T_entered:\n",
    "    team2_T_entered_count[round] += 1\n",
    "\n",
    "print(\"The number of rounds that Team 2 enters the boundary on T side is \" +\n",
    "      str(team2_T_entered_count[True]) + \" out of \" + str(len(team2_T_in_bounds)) + \" rounds.\")\n"
   ]
  },
  {
   "attachments": {},
   "cell_type": "markdown",
   "metadata": {},
   "source": [
    "### Visualize the boundary detection algorithms"
   ]
  },
  {
   "attachments": {},
   "cell_type": "markdown",
   "metadata": {},
   "source": [
    "#### Basic boundary detection algorithm"
   ]
  },
  {
   "cell_type": "code",
   "execution_count": null,
   "metadata": {},
   "outputs": [],
   "source": [
    "fig, ax = plt.subplots()\n",
    "rect = mpatches.Rectangle((x_min, y_min), x_max - x_min,\n",
    "                          y_max - y_min, fill=False, edgecolor='blue')\n",
    "ax.add_patch(rect)\n",
    "ax.set_xlim(x_min - 100, x_max + 100)  # Set the x-axis limits\n",
    "ax.set_ylim(y_min - 100, y_max + 100)  # Set the y-axis limits\n",
    "plt.gca().set_aspect('equal', adjustable='box')  # Set aspect ratio to equal\n",
    "plt.show()\n"
   ]
  },
  {
   "cell_type": "code",
   "execution_count": null,
   "metadata": {},
   "outputs": [],
   "source": [
    "boundary_path = mpath.Path(closed_boundary_coords)\n",
    "\n",
    "fig, ax = plt.subplots()\n",
    "patch = mpatches.PathPatch(boundary_path, facecolor='none', edgecolor='blue')\n",
    "ax.add_patch(patch)\n",
    "ax.set_xlim(x_min - 100, x_max + 100)  # Set the x-axis limits\n",
    "ax.set_ylim(y_min - 100, y_max + 100)  # Set the y-axis limits\n",
    "plt.gca().set_aspect('equal', adjustable='box')  # Set aspect ratio to equal\n",
    "plt.show()\n"
   ]
  },
  {
   "attachments": {},
   "cell_type": "markdown",
   "metadata": {},
   "source": [
    "## Question 2: What is the average timer that Team 2 on T side enters Bombsite B with at least 2 rifles or SMGs?"
   ]
  },
  {
   "attachments": {},
   "cell_type": "markdown",
   "metadata": {},
   "source": [
    "### Extract weapon classes for each row"
   ]
  },
  {
   "cell_type": "code",
   "execution_count": null,
   "metadata": {},
   "outputs": [],
   "source": [
    "game_state.extract_weapon_classes()\n",
    "game_state.data.head()\n"
   ]
  },
  {
   "cell_type": "code",
   "execution_count": null,
   "metadata": {},
   "outputs": [],
   "source": [
    "team2_T_data = game_state.data[(game_state.data['team'] == 'Team2') & (\n",
    "    game_state.data['side'] == 'T') & (game_state.data['area_name'] == 'BombsiteB')]\n",
    "\n",
    "team2_T_data = team2_T_data[team2_T_data['weapon_classes'].apply(\n",
    "    lambda x: 'Rifle' in x or 'SMG' in x)]\n",
    "\n",
    "# Create a list of the earliest timer in each round\n",
    "earliest_timers = []\n",
    "for round in team2_T_data['round_num'].unique():\n",
    "    curr_round = team2_T_data[team2_T_data['round_num'] == round]\n",
    "    earliest_timers.append(curr_round['clock_time'].max())\n",
    "\n",
    "# Find the mean of the datetime objects in the list\n",
    "mean_time = pd.to_datetime(earliest_timers, format=\"%M:%S\").mean()\n",
    "\n",
    "# Convert the mean time to a string\n",
    "mean_time = mean_time.strftime(\"%M:%S\")\n",
    "\n",
    "print(\"The mean time that Team 2 enters the bombsite on T side with rifles or SMGs is \" + mean_time + \".\")\n"
   ]
  },
  {
   "attachments": {},
   "cell_type": "markdown",
   "metadata": {},
   "source": [
    "## Question 3: Where should we suspect Team 2 on CT side to be waiting inside Bombsite B?"
   ]
  },
  {
   "cell_type": "code",
   "execution_count": null,
   "metadata": {},
   "outputs": [],
   "source": [
    "team2_CT_data = game_state.data[(game_state.data['team'] == 'Team2') & (\n",
    "    game_state.data['side'] == 'CT') & (game_state.data['area_name'] == 'BombsiteB') & (game_state.data['bomb_planted'] == False)]\n",
    "\n",
    "# Create a heatmap of the positions of the CT players overlaid with the image at map/de_overpass_radar.jpeg\n",
    "img = mpimg.imread('map/de_overpass_radar.jpeg')\n",
    "plt.figure(figsize=(20, 20))\n",
    "fig, ax = plt.subplots()\n",
    "ax.imshow(img, extent=[-5100, 0, -3750, 2000])\n",
    "sns.histplot(x=team2_CT_data['x'], y=team2_CT_data['y'], cmap='Reds', bins=5, pthresh=0.05, cbar=True, ax=ax)\n",
    "ax.set_xlim(-2806, 0)  # Set the x-axis limits\n",
    "ax.set_ylim(-1233, 1233)  # Set the y-axis limits\n",
    "plt.gca().set_aspect('equal', adjustable='box')  # Set aspect ratio to equal\n",
    "plt.show()\n",
    "\n"
   ]
  }
 ],
 "metadata": {
  "kernelspec": {
   "display_name": "base",
   "language": "python",
   "name": "python3"
  },
  "language_info": {
   "codemirror_mode": {
    "name": "ipython",
    "version": 3
   },
   "file_extension": ".py",
   "mimetype": "text/x-python",
   "name": "python",
   "nbconvert_exporter": "python",
   "pygments_lexer": "ipython3",
   "version": "3.10.9"
  },
  "orig_nbformat": 4
 },
 "nbformat": 4,
 "nbformat_minor": 2
}
